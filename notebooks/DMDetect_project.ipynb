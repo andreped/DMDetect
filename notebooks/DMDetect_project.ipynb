{
  "nbformat": 4,
  "nbformat_minor": 0,
  "metadata": {
    "colab": {
      "name": "DMDetect-project.ipynb",
      "provenance": [],
      "collapsed_sections": []
    },
    "kernelspec": {
      "name": "python3",
      "display_name": "Python 3"
    },
    "language_info": {
      "name": "python"
    },
    "accelerator": "GPU"
  },
  "cells": [
    {
      "cell_type": "markdown",
      "metadata": {
        "id": "GpofS1Unlbs4"
      },
      "source": [
        "The first thing you need to do is to update the Runtime, such that you are able to use the GPU (NVIDIA T4 dedicated GPU). Go to the \"Runtime\" section from the top bar above, and choose \"Change runtime type\". If \"Hardware accelerator\" is set to \"None\", please choose \"GPU\" instead. If it is already set to \"GPU\", you are good to go.\n",
        "\n",
        "Good luck!\n",
        "\n",
        "Best regards,\n",
        "André Pedersen"
      ]
    },
    {
      "cell_type": "code",
      "metadata": {
        "id": "JMco0sJddTpS"
      },
      "source": [
        "# install python dependencies\n",
        "%cd /content/drive/MyDrive/DMDetect/\n",
        "%pip install -r requirements.txt"
      ],
      "execution_count": null,
      "outputs": []
    },
    {
      "cell_type": "code",
      "metadata": {
        "id": "ZtjZbNmQhLlt"
      },
      "source": [
        "# Go to project folder\n",
        "%cd /content/drive/MyDrive/DMDetect/python/"
      ],
      "execution_count": null,
      "outputs": []
    },
    {
      "cell_type": "code",
      "metadata": {
        "id": "qL11tfh-ewmC"
      },
      "source": [
        "# train\n",
        "!python train.py"
      ],
      "execution_count": null,
      "outputs": []
    },
    {
      "cell_type": "code",
      "metadata": {
        "id": "14Wetjp6fK-_"
      },
      "source": [
        "# evaluate trained model\n",
        "# %matplotlib inline\n",
        "!python eval.py"
      ],
      "execution_count": null,
      "outputs": []
    }
  ]
}